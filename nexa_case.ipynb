{
  "cells": [
    {
      "cell_type": "markdown",
      "metadata": {
        "id": "7bkUPkSUehsx"
      },
      "source": [
        "#OBSERVAÇÕES\n",
        "O código abaixo necessita do upload de um arquivo config.ini para iniciar variáveis sensíveis."
      ]
    },
    {
      "cell_type": "markdown",
      "metadata": {
        "id": "HyMj_jZJI8ad"
      },
      "source": [
        "# Teste1"
      ]
    },
    {
      "cell_type": "markdown",
      "metadata": {
        "id": "5EIK_KlvKDey"
      },
      "source": [
        "## Importando as bibliotecas"
      ]
    },
    {
      "cell_type": "code",
      "execution_count": 1,
      "metadata": {
        "id": "R6pLnuAcIZt7"
      },
      "outputs": [],
      "source": [
        "import requests\n",
        "import configparser\n",
        "import json\n",
        "import pandas as pd"
      ]
    },
    {
      "cell_type": "markdown",
      "metadata": {
        "id": "3-Ba2NpJKJ2O"
      },
      "source": [
        "## Inicializando as variáveis (foi utilizado um arquivo config.ini para não expor as credenciais no escopo do Databricks é utilizado AKV para tal)"
      ]
    },
    {
      "cell_type": "code",
      "execution_count": 2,
      "metadata": {
        "id": "OtbIl9BhIZt7"
      },
      "outputs": [],
      "source": [
        "config = configparser.ConfigParser()\n",
        "config.read('config.ini')\n",
        "\n",
        "url = config['geo_api']['url']\n",
        "token = config['geo_api']['token']"
      ]
    },
    {
      "cell_type": "markdown",
      "metadata": {
        "id": "ULfCwJB6KRMh"
      },
      "source": [
        "## Função para lidar com requisição GET"
      ]
    },
    {
      "cell_type": "code",
      "execution_count": 3,
      "metadata": {
        "id": "-rlC5R6iIZt7"
      },
      "outputs": [],
      "source": [
        "def get_command(url:str, params: object):\n",
        "        \"\"\"Fazer uma requisição get\"\"\"\n",
        "        url = url\n",
        "        response = requests.get(url=url, params=params)\n",
        "        if response.status_code == 200:\n",
        "            return response.text\n",
        "        else:\n",
        "            print(f\"Error: {response.status_code}\")"
      ]
    },
    {
      "cell_type": "markdown",
      "metadata": {
        "id": "6ifTuHjbKWXe"
      },
      "source": [
        "## Função para gerar os parâmetros da API dinamicamente"
      ]
    },
    {
      "cell_type": "code",
      "execution_count": 4,
      "metadata": {
        "id": "dl2b73WAIZt8"
      },
      "outputs": [],
      "source": [
        "def generate_params(lat:str, long: str,format = 'json', token = token):\n",
        "    \"\"\"Gerar parâmetros necessário para API GEO\"\"\"\n",
        "    params = {\n",
        "        'key': token,\n",
        "        'format': format,\n",
        "        'lat': lat,\n",
        "        'lng': long\n",
        "    }\n",
        "\n",
        "    return params"
      ]
    },
    {
      "cell_type": "markdown",
      "metadata": {
        "id": "gUfLUZLZd4GW"
      },
      "source": [
        "## Leitura de algumas latitude/longitudes + chamada API"
      ]
    },
    {
      "cell_type": "code",
      "execution_count": 6,
      "metadata": {
        "id": "shezi9u6IZt8"
      },
      "outputs": [],
      "source": [
        "data = requests.get('https://raw.githubusercontent.com/rodjribeiro/congenial-waffle/main/data/states.json').json()\n",
        "\n",
        "db = []\n",
        "\n",
        "for item in data:\n",
        "    lat  = item['latitude']\n",
        "    long = item['longitude']\n",
        "\n",
        "    params = generate_params(lat=lat, long=long)\n",
        "    db.append(get_command(url=url, params=params))"
      ]
    },
    {
      "cell_type": "markdown",
      "metadata": {
        "id": "W7vvAytxeA7y"
      },
      "source": [
        "## Inicialização de dataframe para visualizar os dados"
      ]
    },
    {
      "cell_type": "code",
      "execution_count": 7,
      "metadata": {
        "id": "R7OZ6uKpIZt9"
      },
      "outputs": [],
      "source": [
        "df = pd.DataFrame(db)"
      ]
    },
    {
      "cell_type": "code",
      "execution_count": 9,
      "metadata": {
        "colab": {
          "base_uri": "https://localhost:8080/",
          "height": 206
        },
        "id": "ahruXsDOIx84",
        "outputId": "ae3024b4-67dc-49a7-d43e-96f27ff79069"
      },
      "outputs": [
        {
          "data": {
            "application/vnd.google.colaboratory.intrinsic+json": {
              "summary": "{\n  \"name\": \"df\",\n  \"rows\": 27,\n  \"fields\": [\n    {\n      \"column\": 0,\n      \"properties\": {\n        \"dtype\": \"string\",\n        \"num_unique_values\": 27,\n        \"samples\": [\n          \"{\\\"country\\\":\\\"BR\\\",\\\"region\\\":\\\"Piaui\\\",\\\"city\\\":\\\"Tanque do Piaui\\\",\\\"latitude\\\":-6.6,\\\"longitude\\\":-42.2822,\\\"currency_code\\\":\\\"BRL\\\",\\\"currency_name\\\":\\\"Brazilian Real\\\",\\\"currency_symbol\\\":\\\"R$\\\",\\\"sunrise\\\":\\\"05:53\\\",\\\"sunset\\\":\\\"18:02\\\",\\\"time_zone\\\":\\\"-03:00\\\",\\\"distance_km\\\":0.243}\",\n          \"{\\\"country\\\":\\\"BR\\\",\\\"region\\\":\\\"Alagoas\\\",\\\"city\\\":\\\"Lagoa do Pai Goncalo\\\",\\\"latitude\\\":-9.61667,\\\"longitude\\\":-36.8333,\\\"currency_code\\\":\\\"BRL\\\",\\\"currency_name\\\":\\\"Brazilian Real\\\",\\\"currency_symbol\\\":\\\"R$\\\",\\\"sunrise\\\":\\\"05:31\\\",\\\"sunset\\\":\\\"17:40\\\",\\\"time_zone\\\":\\\"-03:00\\\",\\\"distance_km\\\":1.5046}\",\n          \"{\\\"country\\\":\\\"BR\\\",\\\"region\\\":\\\"Ceara\\\",\\\"city\\\":\\\"Manituba\\\",\\\"latitude\\\":-5.23,\\\"longitude\\\":-39.5694,\\\"currency_code\\\":\\\"BRL\\\",\\\"currency_name\\\":\\\"Brazilian Real\\\",\\\"currency_symbol\\\":\\\"R$\\\",\\\"sunrise\\\":\\\"05:42\\\",\\\"sunset\\\":\\\"17:51\\\",\\\"time_zone\\\":\\\"-03:00\\\",\\\"distance_km\\\":5.4922}\"\n        ],\n        \"semantic_type\": \"\",\n        \"description\": \"\"\n      }\n    }\n  ]\n}",
              "type": "dataframe",
              "variable_name": "df"
            },
            "text/html": [
              "\n",
              "  <div id=\"df-e7e4fd3a-9e9f-44f5-a67d-809e22587280\" class=\"colab-df-container\">\n",
              "    <div>\n",
              "<style scoped>\n",
              "    .dataframe tbody tr th:only-of-type {\n",
              "        vertical-align: middle;\n",
              "    }\n",
              "\n",
              "    .dataframe tbody tr th {\n",
              "        vertical-align: top;\n",
              "    }\n",
              "\n",
              "    .dataframe thead th {\n",
              "        text-align: right;\n",
              "    }\n",
              "</style>\n",
              "<table border=\"1\" class=\"dataframe\">\n",
              "  <thead>\n",
              "    <tr style=\"text-align: right;\">\n",
              "      <th></th>\n",
              "      <th>0</th>\n",
              "    </tr>\n",
              "  </thead>\n",
              "  <tbody>\n",
              "    <tr>\n",
              "      <th>0</th>\n",
              "      <td>{\"country\":\"BR\",\"region\":\"Rondonia\",\"city\":\"Pe...</td>\n",
              "    </tr>\n",
              "    <tr>\n",
              "      <th>1</th>\n",
              "      <td>{\"country\":\"BR\",\"region\":\"Acre\",\"city\":\"Porang...</td>\n",
              "    </tr>\n",
              "    <tr>\n",
              "      <th>2</th>\n",
              "      <td>{\"country\":\"BR\",\"region\":\"Amazonas\",\"city\":\"Al...</td>\n",
              "    </tr>\n",
              "    <tr>\n",
              "      <th>3</th>\n",
              "      <td>{\"country\":\"BR\",\"region\":\"Roraima\",\"city\":\"Car...</td>\n",
              "    </tr>\n",
              "    <tr>\n",
              "      <th>4</th>\n",
              "      <td>{\"country\":\"BR\",\"region\":\"Para\",\"city\":\"Novo A...</td>\n",
              "    </tr>\n",
              "  </tbody>\n",
              "</table>\n",
              "</div>\n",
              "    <div class=\"colab-df-buttons\">\n",
              "\n",
              "  <div class=\"colab-df-container\">\n",
              "    <button class=\"colab-df-convert\" onclick=\"convertToInteractive('df-e7e4fd3a-9e9f-44f5-a67d-809e22587280')\"\n",
              "            title=\"Convert this dataframe to an interactive table.\"\n",
              "            style=\"display:none;\">\n",
              "\n",
              "  <svg xmlns=\"http://www.w3.org/2000/svg\" height=\"24px\" viewBox=\"0 -960 960 960\">\n",
              "    <path d=\"M120-120v-720h720v720H120Zm60-500h600v-160H180v160Zm220 220h160v-160H400v160Zm0 220h160v-160H400v160ZM180-400h160v-160H180v160Zm440 0h160v-160H620v160ZM180-180h160v-160H180v160Zm440 0h160v-160H620v160Z\"/>\n",
              "  </svg>\n",
              "    </button>\n",
              "\n",
              "  <style>\n",
              "    .colab-df-container {\n",
              "      display:flex;\n",
              "      gap: 12px;\n",
              "    }\n",
              "\n",
              "    .colab-df-convert {\n",
              "      background-color: #E8F0FE;\n",
              "      border: none;\n",
              "      border-radius: 50%;\n",
              "      cursor: pointer;\n",
              "      display: none;\n",
              "      fill: #1967D2;\n",
              "      height: 32px;\n",
              "      padding: 0 0 0 0;\n",
              "      width: 32px;\n",
              "    }\n",
              "\n",
              "    .colab-df-convert:hover {\n",
              "      background-color: #E2EBFA;\n",
              "      box-shadow: 0px 1px 2px rgba(60, 64, 67, 0.3), 0px 1px 3px 1px rgba(60, 64, 67, 0.15);\n",
              "      fill: #174EA6;\n",
              "    }\n",
              "\n",
              "    .colab-df-buttons div {\n",
              "      margin-bottom: 4px;\n",
              "    }\n",
              "\n",
              "    [theme=dark] .colab-df-convert {\n",
              "      background-color: #3B4455;\n",
              "      fill: #D2E3FC;\n",
              "    }\n",
              "\n",
              "    [theme=dark] .colab-df-convert:hover {\n",
              "      background-color: #434B5C;\n",
              "      box-shadow: 0px 1px 3px 1px rgba(0, 0, 0, 0.15);\n",
              "      filter: drop-shadow(0px 1px 2px rgba(0, 0, 0, 0.3));\n",
              "      fill: #FFFFFF;\n",
              "    }\n",
              "  </style>\n",
              "\n",
              "    <script>\n",
              "      const buttonEl =\n",
              "        document.querySelector('#df-e7e4fd3a-9e9f-44f5-a67d-809e22587280 button.colab-df-convert');\n",
              "      buttonEl.style.display =\n",
              "        google.colab.kernel.accessAllowed ? 'block' : 'none';\n",
              "\n",
              "      async function convertToInteractive(key) {\n",
              "        const element = document.querySelector('#df-e7e4fd3a-9e9f-44f5-a67d-809e22587280');\n",
              "        const dataTable =\n",
              "          await google.colab.kernel.invokeFunction('convertToInteractive',\n",
              "                                                    [key], {});\n",
              "        if (!dataTable) return;\n",
              "\n",
              "        const docLinkHtml = 'Like what you see? Visit the ' +\n",
              "          '<a target=\"_blank\" href=https://colab.research.google.com/notebooks/data_table.ipynb>data table notebook</a>'\n",
              "          + ' to learn more about interactive tables.';\n",
              "        element.innerHTML = '';\n",
              "        dataTable['output_type'] = 'display_data';\n",
              "        await google.colab.output.renderOutput(dataTable, element);\n",
              "        const docLink = document.createElement('div');\n",
              "        docLink.innerHTML = docLinkHtml;\n",
              "        element.appendChild(docLink);\n",
              "      }\n",
              "    </script>\n",
              "  </div>\n",
              "\n",
              "\n",
              "<div id=\"df-01321acd-c7d2-44fe-b327-84b462151a09\">\n",
              "  <button class=\"colab-df-quickchart\" onclick=\"quickchart('df-01321acd-c7d2-44fe-b327-84b462151a09')\"\n",
              "            title=\"Suggest charts\"\n",
              "            style=\"display:none;\">\n",
              "\n",
              "<svg xmlns=\"http://www.w3.org/2000/svg\" height=\"24px\"viewBox=\"0 0 24 24\"\n",
              "     width=\"24px\">\n",
              "    <g>\n",
              "        <path d=\"M19 3H5c-1.1 0-2 .9-2 2v14c0 1.1.9 2 2 2h14c1.1 0 2-.9 2-2V5c0-1.1-.9-2-2-2zM9 17H7v-7h2v7zm4 0h-2V7h2v10zm4 0h-2v-4h2v4z\"/>\n",
              "    </g>\n",
              "</svg>\n",
              "  </button>\n",
              "\n",
              "<style>\n",
              "  .colab-df-quickchart {\n",
              "      --bg-color: #E8F0FE;\n",
              "      --fill-color: #1967D2;\n",
              "      --hover-bg-color: #E2EBFA;\n",
              "      --hover-fill-color: #174EA6;\n",
              "      --disabled-fill-color: #AAA;\n",
              "      --disabled-bg-color: #DDD;\n",
              "  }\n",
              "\n",
              "  [theme=dark] .colab-df-quickchart {\n",
              "      --bg-color: #3B4455;\n",
              "      --fill-color: #D2E3FC;\n",
              "      --hover-bg-color: #434B5C;\n",
              "      --hover-fill-color: #FFFFFF;\n",
              "      --disabled-bg-color: #3B4455;\n",
              "      --disabled-fill-color: #666;\n",
              "  }\n",
              "\n",
              "  .colab-df-quickchart {\n",
              "    background-color: var(--bg-color);\n",
              "    border: none;\n",
              "    border-radius: 50%;\n",
              "    cursor: pointer;\n",
              "    display: none;\n",
              "    fill: var(--fill-color);\n",
              "    height: 32px;\n",
              "    padding: 0;\n",
              "    width: 32px;\n",
              "  }\n",
              "\n",
              "  .colab-df-quickchart:hover {\n",
              "    background-color: var(--hover-bg-color);\n",
              "    box-shadow: 0 1px 2px rgba(60, 64, 67, 0.3), 0 1px 3px 1px rgba(60, 64, 67, 0.15);\n",
              "    fill: var(--button-hover-fill-color);\n",
              "  }\n",
              "\n",
              "  .colab-df-quickchart-complete:disabled,\n",
              "  .colab-df-quickchart-complete:disabled:hover {\n",
              "    background-color: var(--disabled-bg-color);\n",
              "    fill: var(--disabled-fill-color);\n",
              "    box-shadow: none;\n",
              "  }\n",
              "\n",
              "  .colab-df-spinner {\n",
              "    border: 2px solid var(--fill-color);\n",
              "    border-color: transparent;\n",
              "    border-bottom-color: var(--fill-color);\n",
              "    animation:\n",
              "      spin 1s steps(1) infinite;\n",
              "  }\n",
              "\n",
              "  @keyframes spin {\n",
              "    0% {\n",
              "      border-color: transparent;\n",
              "      border-bottom-color: var(--fill-color);\n",
              "      border-left-color: var(--fill-color);\n",
              "    }\n",
              "    20% {\n",
              "      border-color: transparent;\n",
              "      border-left-color: var(--fill-color);\n",
              "      border-top-color: var(--fill-color);\n",
              "    }\n",
              "    30% {\n",
              "      border-color: transparent;\n",
              "      border-left-color: var(--fill-color);\n",
              "      border-top-color: var(--fill-color);\n",
              "      border-right-color: var(--fill-color);\n",
              "    }\n",
              "    40% {\n",
              "      border-color: transparent;\n",
              "      border-right-color: var(--fill-color);\n",
              "      border-top-color: var(--fill-color);\n",
              "    }\n",
              "    60% {\n",
              "      border-color: transparent;\n",
              "      border-right-color: var(--fill-color);\n",
              "    }\n",
              "    80% {\n",
              "      border-color: transparent;\n",
              "      border-right-color: var(--fill-color);\n",
              "      border-bottom-color: var(--fill-color);\n",
              "    }\n",
              "    90% {\n",
              "      border-color: transparent;\n",
              "      border-bottom-color: var(--fill-color);\n",
              "    }\n",
              "  }\n",
              "</style>\n",
              "\n",
              "  <script>\n",
              "    async function quickchart(key) {\n",
              "      const quickchartButtonEl =\n",
              "        document.querySelector('#' + key + ' button');\n",
              "      quickchartButtonEl.disabled = true;  // To prevent multiple clicks.\n",
              "      quickchartButtonEl.classList.add('colab-df-spinner');\n",
              "      try {\n",
              "        const charts = await google.colab.kernel.invokeFunction(\n",
              "            'suggestCharts', [key], {});\n",
              "      } catch (error) {\n",
              "        console.error('Error during call to suggestCharts:', error);\n",
              "      }\n",
              "      quickchartButtonEl.classList.remove('colab-df-spinner');\n",
              "      quickchartButtonEl.classList.add('colab-df-quickchart-complete');\n",
              "    }\n",
              "    (() => {\n",
              "      let quickchartButtonEl =\n",
              "        document.querySelector('#df-01321acd-c7d2-44fe-b327-84b462151a09 button');\n",
              "      quickchartButtonEl.style.display =\n",
              "        google.colab.kernel.accessAllowed ? 'block' : 'none';\n",
              "    })();\n",
              "  </script>\n",
              "</div>\n",
              "\n",
              "    </div>\n",
              "  </div>\n"
            ],
            "text/plain": [
              "                                                   0\n",
              "0  {\"country\":\"BR\",\"region\":\"Rondonia\",\"city\":\"Pe...\n",
              "1  {\"country\":\"BR\",\"region\":\"Acre\",\"city\":\"Porang...\n",
              "2  {\"country\":\"BR\",\"region\":\"Amazonas\",\"city\":\"Al...\n",
              "3  {\"country\":\"BR\",\"region\":\"Roraima\",\"city\":\"Car...\n",
              "4  {\"country\":\"BR\",\"region\":\"Para\",\"city\":\"Novo A..."
            ]
          },
          "execution_count": 9,
          "metadata": {},
          "output_type": "execute_result"
        }
      ],
      "source": [
        "df.head()"
      ]
    },
    {
      "cell_type": "markdown",
      "metadata": {
        "id": "ORvNLLwdeKGF"
      },
      "source": [
        "## Transformação do objeto no formato de texto para colunar"
      ]
    },
    {
      "cell_type": "code",
      "execution_count": 10,
      "metadata": {
        "id": "IalAT2vOIZt9"
      },
      "outputs": [],
      "source": [
        "df_explode = df[0].apply(json.loads).apply(pd.Series)"
      ]
    },
    {
      "cell_type": "code",
      "execution_count": 11,
      "metadata": {
        "colab": {
          "base_uri": "https://localhost:8080/",
          "height": 206
        },
        "id": "a5WZradLIZt-",
        "outputId": "57caf7c5-b352-485b-e77e-fcbe440b3f81"
      },
      "outputs": [
        {
          "data": {
            "application/vnd.google.colaboratory.intrinsic+json": {
              "summary": "{\n  \"name\": \"df2\",\n  \"rows\": 27,\n  \"fields\": [\n    {\n      \"column\": \"country\",\n      \"properties\": {\n        \"dtype\": \"category\",\n        \"num_unique_values\": 1,\n        \"samples\": [\n          \"BR\"\n        ],\n        \"semantic_type\": \"\",\n        \"description\": \"\"\n      }\n    },\n    {\n      \"column\": \"region\",\n      \"properties\": {\n        \"dtype\": \"string\",\n        \"num_unique_values\": 27,\n        \"samples\": [\n          \"Piaui\"\n        ],\n        \"semantic_type\": \"\",\n        \"description\": \"\"\n      }\n    },\n    {\n      \"column\": \"city\",\n      \"properties\": {\n        \"dtype\": \"string\",\n        \"num_unique_values\": 27,\n        \"samples\": [\n          \"Tanque do Piaui\"\n        ],\n        \"semantic_type\": \"\",\n        \"description\": \"\"\n      }\n    },\n    {\n      \"column\": \"latitude\",\n      \"properties\": {\n        \"dtype\": \"number\",\n        \"std\": 8.453148819215812,\n        \"min\": -30.1333,\n        \"max\": 1.81611,\n        \"num_unique_values\": 27,\n        \"samples\": [\n          -6.6\n        ],\n        \"semantic_type\": \"\",\n        \"description\": \"\"\n      }\n    },\n    {\n      \"column\": \"longitude\",\n      \"properties\": {\n        \"dtype\": \"number\",\n        \"std\": 9.262769813283423,\n        \"min\": -70.6,\n        \"max\": -36.575,\n        \"num_unique_values\": 27,\n        \"samples\": [\n          -42.2822\n        ],\n        \"semantic_type\": \"\",\n        \"description\": \"\"\n      }\n    },\n    {\n      \"column\": \"currency_code\",\n      \"properties\": {\n        \"dtype\": \"category\",\n        \"num_unique_values\": 1,\n        \"samples\": [\n          \"BRL\"\n        ],\n        \"semantic_type\": \"\",\n        \"description\": \"\"\n      }\n    },\n    {\n      \"column\": \"currency_name\",\n      \"properties\": {\n        \"dtype\": \"category\",\n        \"num_unique_values\": 1,\n        \"samples\": [\n          \"Brazilian Real\"\n        ],\n        \"semantic_type\": \"\",\n        \"description\": \"\"\n      }\n    },\n    {\n      \"column\": \"currency_symbol\",\n      \"properties\": {\n        \"dtype\": \"category\",\n        \"num_unique_values\": 1,\n        \"samples\": [\n          \"R$\"\n        ],\n        \"semantic_type\": \"\",\n        \"description\": \"\"\n      }\n    },\n    {\n      \"column\": \"sunrise\",\n      \"properties\": {\n        \"dtype\": \"object\",\n        \"num_unique_values\": 23,\n        \"samples\": [\n          \"05:44\"\n        ],\n        \"semantic_type\": \"\",\n        \"description\": \"\"\n      }\n    },\n    {\n      \"column\": \"sunset\",\n      \"properties\": {\n        \"dtype\": \"object\",\n        \"num_unique_values\": 24,\n        \"samples\": [\n          \"18:02\"\n        ],\n        \"semantic_type\": \"\",\n        \"description\": \"\"\n      }\n    },\n    {\n      \"column\": \"time_zone\",\n      \"properties\": {\n        \"dtype\": \"category\",\n        \"num_unique_values\": 3,\n        \"samples\": [\n          \"-04:00\"\n        ],\n        \"semantic_type\": \"\",\n        \"description\": \"\"\n      }\n    },\n    {\n      \"column\": \"distance_km\",\n      \"properties\": {\n        \"dtype\": \"number\",\n        \"std\": 14.61058836560769,\n        \"min\": 0.1562,\n        \"max\": 56.1437,\n        \"num_unique_values\": 27,\n        \"samples\": [\n          0.243\n        ],\n        \"semantic_type\": \"\",\n        \"description\": \"\"\n      }\n    }\n  ]\n}",
              "type": "dataframe",
              "variable_name": "df2"
            },
            "text/html": [
              "\n",
              "  <div id=\"df-d1c02a1f-6a10-487c-9c80-8a917b3d7344\" class=\"colab-df-container\">\n",
              "    <div>\n",
              "<style scoped>\n",
              "    .dataframe tbody tr th:only-of-type {\n",
              "        vertical-align: middle;\n",
              "    }\n",
              "\n",
              "    .dataframe tbody tr th {\n",
              "        vertical-align: top;\n",
              "    }\n",
              "\n",
              "    .dataframe thead th {\n",
              "        text-align: right;\n",
              "    }\n",
              "</style>\n",
              "<table border=\"1\" class=\"dataframe\">\n",
              "  <thead>\n",
              "    <tr style=\"text-align: right;\">\n",
              "      <th></th>\n",
              "      <th>country</th>\n",
              "      <th>region</th>\n",
              "      <th>city</th>\n",
              "      <th>latitude</th>\n",
              "      <th>longitude</th>\n",
              "      <th>currency_code</th>\n",
              "      <th>currency_name</th>\n",
              "      <th>currency_symbol</th>\n",
              "      <th>sunrise</th>\n",
              "      <th>sunset</th>\n",
              "      <th>time_zone</th>\n",
              "      <th>distance_km</th>\n",
              "    </tr>\n",
              "  </thead>\n",
              "  <tbody>\n",
              "    <tr>\n",
              "      <th>0</th>\n",
              "      <td>BR</td>\n",
              "      <td>Rondonia</td>\n",
              "      <td>Peruanos</td>\n",
              "      <td>-10.66670</td>\n",
              "      <td>-63.1000</td>\n",
              "      <td>BRL</td>\n",
              "      <td>Brazilian Real</td>\n",
              "      <td>R$</td>\n",
              "      <td>06:16</td>\n",
              "      <td>18:25</td>\n",
              "      <td>-04:00</td>\n",
              "      <td>31.8925</td>\n",
              "    </tr>\n",
              "    <tr>\n",
              "      <th>1</th>\n",
              "      <td>BR</td>\n",
              "      <td>Acre</td>\n",
              "      <td>Porangaba</td>\n",
              "      <td>-8.80000</td>\n",
              "      <td>-70.6000</td>\n",
              "      <td>BRL</td>\n",
              "      <td>Brazilian Real</td>\n",
              "      <td>R$</td>\n",
              "      <td>05:46</td>\n",
              "      <td>17:55</td>\n",
              "      <td>-05:00</td>\n",
              "      <td>6.4277</td>\n",
              "    </tr>\n",
              "    <tr>\n",
              "      <th>2</th>\n",
              "      <td>BR</td>\n",
              "      <td>Amazonas</td>\n",
              "      <td>Alvaraes</td>\n",
              "      <td>-3.22083</td>\n",
              "      <td>-64.8042</td>\n",
              "      <td>BRL</td>\n",
              "      <td>Brazilian Real</td>\n",
              "      <td>R$</td>\n",
              "      <td>06:24</td>\n",
              "      <td>18:31</td>\n",
              "      <td>-04:00</td>\n",
              "      <td>42.9629</td>\n",
              "    </tr>\n",
              "    <tr>\n",
              "      <th>3</th>\n",
              "      <td>BR</td>\n",
              "      <td>Roraima</td>\n",
              "      <td>Caracarai</td>\n",
              "      <td>1.81611</td>\n",
              "      <td>-61.1281</td>\n",
              "      <td>BRL</td>\n",
              "      <td>Brazilian Real</td>\n",
              "      <td>R$</td>\n",
              "      <td>06:10</td>\n",
              "      <td>18:16</td>\n",
              "      <td>-04:00</td>\n",
              "      <td>29.6195</td>\n",
              "    </tr>\n",
              "    <tr>\n",
              "      <th>4</th>\n",
              "      <td>BR</td>\n",
              "      <td>Para</td>\n",
              "      <td>Novo Acordo</td>\n",
              "      <td>-3.56667</td>\n",
              "      <td>-52.2667</td>\n",
              "      <td>BRL</td>\n",
              "      <td>Brazilian Real</td>\n",
              "      <td>R$</td>\n",
              "      <td>06:33</td>\n",
              "      <td>18:41</td>\n",
              "      <td>-03:00</td>\n",
              "      <td>34.3060</td>\n",
              "    </tr>\n",
              "  </tbody>\n",
              "</table>\n",
              "</div>\n",
              "    <div class=\"colab-df-buttons\">\n",
              "\n",
              "  <div class=\"colab-df-container\">\n",
              "    <button class=\"colab-df-convert\" onclick=\"convertToInteractive('df-d1c02a1f-6a10-487c-9c80-8a917b3d7344')\"\n",
              "            title=\"Convert this dataframe to an interactive table.\"\n",
              "            style=\"display:none;\">\n",
              "\n",
              "  <svg xmlns=\"http://www.w3.org/2000/svg\" height=\"24px\" viewBox=\"0 -960 960 960\">\n",
              "    <path d=\"M120-120v-720h720v720H120Zm60-500h600v-160H180v160Zm220 220h160v-160H400v160Zm0 220h160v-160H400v160ZM180-400h160v-160H180v160Zm440 0h160v-160H620v160ZM180-180h160v-160H180v160Zm440 0h160v-160H620v160Z\"/>\n",
              "  </svg>\n",
              "    </button>\n",
              "\n",
              "  <style>\n",
              "    .colab-df-container {\n",
              "      display:flex;\n",
              "      gap: 12px;\n",
              "    }\n",
              "\n",
              "    .colab-df-convert {\n",
              "      background-color: #E8F0FE;\n",
              "      border: none;\n",
              "      border-radius: 50%;\n",
              "      cursor: pointer;\n",
              "      display: none;\n",
              "      fill: #1967D2;\n",
              "      height: 32px;\n",
              "      padding: 0 0 0 0;\n",
              "      width: 32px;\n",
              "    }\n",
              "\n",
              "    .colab-df-convert:hover {\n",
              "      background-color: #E2EBFA;\n",
              "      box-shadow: 0px 1px 2px rgba(60, 64, 67, 0.3), 0px 1px 3px 1px rgba(60, 64, 67, 0.15);\n",
              "      fill: #174EA6;\n",
              "    }\n",
              "\n",
              "    .colab-df-buttons div {\n",
              "      margin-bottom: 4px;\n",
              "    }\n",
              "\n",
              "    [theme=dark] .colab-df-convert {\n",
              "      background-color: #3B4455;\n",
              "      fill: #D2E3FC;\n",
              "    }\n",
              "\n",
              "    [theme=dark] .colab-df-convert:hover {\n",
              "      background-color: #434B5C;\n",
              "      box-shadow: 0px 1px 3px 1px rgba(0, 0, 0, 0.15);\n",
              "      filter: drop-shadow(0px 1px 2px rgba(0, 0, 0, 0.3));\n",
              "      fill: #FFFFFF;\n",
              "    }\n",
              "  </style>\n",
              "\n",
              "    <script>\n",
              "      const buttonEl =\n",
              "        document.querySelector('#df-d1c02a1f-6a10-487c-9c80-8a917b3d7344 button.colab-df-convert');\n",
              "      buttonEl.style.display =\n",
              "        google.colab.kernel.accessAllowed ? 'block' : 'none';\n",
              "\n",
              "      async function convertToInteractive(key) {\n",
              "        const element = document.querySelector('#df-d1c02a1f-6a10-487c-9c80-8a917b3d7344');\n",
              "        const dataTable =\n",
              "          await google.colab.kernel.invokeFunction('convertToInteractive',\n",
              "                                                    [key], {});\n",
              "        if (!dataTable) return;\n",
              "\n",
              "        const docLinkHtml = 'Like what you see? Visit the ' +\n",
              "          '<a target=\"_blank\" href=https://colab.research.google.com/notebooks/data_table.ipynb>data table notebook</a>'\n",
              "          + ' to learn more about interactive tables.';\n",
              "        element.innerHTML = '';\n",
              "        dataTable['output_type'] = 'display_data';\n",
              "        await google.colab.output.renderOutput(dataTable, element);\n",
              "        const docLink = document.createElement('div');\n",
              "        docLink.innerHTML = docLinkHtml;\n",
              "        element.appendChild(docLink);\n",
              "      }\n",
              "    </script>\n",
              "  </div>\n",
              "\n",
              "\n",
              "<div id=\"df-342a037c-520e-45ce-97d2-231dc04c3d0e\">\n",
              "  <button class=\"colab-df-quickchart\" onclick=\"quickchart('df-342a037c-520e-45ce-97d2-231dc04c3d0e')\"\n",
              "            title=\"Suggest charts\"\n",
              "            style=\"display:none;\">\n",
              "\n",
              "<svg xmlns=\"http://www.w3.org/2000/svg\" height=\"24px\"viewBox=\"0 0 24 24\"\n",
              "     width=\"24px\">\n",
              "    <g>\n",
              "        <path d=\"M19 3H5c-1.1 0-2 .9-2 2v14c0 1.1.9 2 2 2h14c1.1 0 2-.9 2-2V5c0-1.1-.9-2-2-2zM9 17H7v-7h2v7zm4 0h-2V7h2v10zm4 0h-2v-4h2v4z\"/>\n",
              "    </g>\n",
              "</svg>\n",
              "  </button>\n",
              "\n",
              "<style>\n",
              "  .colab-df-quickchart {\n",
              "      --bg-color: #E8F0FE;\n",
              "      --fill-color: #1967D2;\n",
              "      --hover-bg-color: #E2EBFA;\n",
              "      --hover-fill-color: #174EA6;\n",
              "      --disabled-fill-color: #AAA;\n",
              "      --disabled-bg-color: #DDD;\n",
              "  }\n",
              "\n",
              "  [theme=dark] .colab-df-quickchart {\n",
              "      --bg-color: #3B4455;\n",
              "      --fill-color: #D2E3FC;\n",
              "      --hover-bg-color: #434B5C;\n",
              "      --hover-fill-color: #FFFFFF;\n",
              "      --disabled-bg-color: #3B4455;\n",
              "      --disabled-fill-color: #666;\n",
              "  }\n",
              "\n",
              "  .colab-df-quickchart {\n",
              "    background-color: var(--bg-color);\n",
              "    border: none;\n",
              "    border-radius: 50%;\n",
              "    cursor: pointer;\n",
              "    display: none;\n",
              "    fill: var(--fill-color);\n",
              "    height: 32px;\n",
              "    padding: 0;\n",
              "    width: 32px;\n",
              "  }\n",
              "\n",
              "  .colab-df-quickchart:hover {\n",
              "    background-color: var(--hover-bg-color);\n",
              "    box-shadow: 0 1px 2px rgba(60, 64, 67, 0.3), 0 1px 3px 1px rgba(60, 64, 67, 0.15);\n",
              "    fill: var(--button-hover-fill-color);\n",
              "  }\n",
              "\n",
              "  .colab-df-quickchart-complete:disabled,\n",
              "  .colab-df-quickchart-complete:disabled:hover {\n",
              "    background-color: var(--disabled-bg-color);\n",
              "    fill: var(--disabled-fill-color);\n",
              "    box-shadow: none;\n",
              "  }\n",
              "\n",
              "  .colab-df-spinner {\n",
              "    border: 2px solid var(--fill-color);\n",
              "    border-color: transparent;\n",
              "    border-bottom-color: var(--fill-color);\n",
              "    animation:\n",
              "      spin 1s steps(1) infinite;\n",
              "  }\n",
              "\n",
              "  @keyframes spin {\n",
              "    0% {\n",
              "      border-color: transparent;\n",
              "      border-bottom-color: var(--fill-color);\n",
              "      border-left-color: var(--fill-color);\n",
              "    }\n",
              "    20% {\n",
              "      border-color: transparent;\n",
              "      border-left-color: var(--fill-color);\n",
              "      border-top-color: var(--fill-color);\n",
              "    }\n",
              "    30% {\n",
              "      border-color: transparent;\n",
              "      border-left-color: var(--fill-color);\n",
              "      border-top-color: var(--fill-color);\n",
              "      border-right-color: var(--fill-color);\n",
              "    }\n",
              "    40% {\n",
              "      border-color: transparent;\n",
              "      border-right-color: var(--fill-color);\n",
              "      border-top-color: var(--fill-color);\n",
              "    }\n",
              "    60% {\n",
              "      border-color: transparent;\n",
              "      border-right-color: var(--fill-color);\n",
              "    }\n",
              "    80% {\n",
              "      border-color: transparent;\n",
              "      border-right-color: var(--fill-color);\n",
              "      border-bottom-color: var(--fill-color);\n",
              "    }\n",
              "    90% {\n",
              "      border-color: transparent;\n",
              "      border-bottom-color: var(--fill-color);\n",
              "    }\n",
              "  }\n",
              "</style>\n",
              "\n",
              "  <script>\n",
              "    async function quickchart(key) {\n",
              "      const quickchartButtonEl =\n",
              "        document.querySelector('#' + key + ' button');\n",
              "      quickchartButtonEl.disabled = true;  // To prevent multiple clicks.\n",
              "      quickchartButtonEl.classList.add('colab-df-spinner');\n",
              "      try {\n",
              "        const charts = await google.colab.kernel.invokeFunction(\n",
              "            'suggestCharts', [key], {});\n",
              "      } catch (error) {\n",
              "        console.error('Error during call to suggestCharts:', error);\n",
              "      }\n",
              "      quickchartButtonEl.classList.remove('colab-df-spinner');\n",
              "      quickchartButtonEl.classList.add('colab-df-quickchart-complete');\n",
              "    }\n",
              "    (() => {\n",
              "      let quickchartButtonEl =\n",
              "        document.querySelector('#df-342a037c-520e-45ce-97d2-231dc04c3d0e button');\n",
              "      quickchartButtonEl.style.display =\n",
              "        google.colab.kernel.accessAllowed ? 'block' : 'none';\n",
              "    })();\n",
              "  </script>\n",
              "</div>\n",
              "\n",
              "    </div>\n",
              "  </div>\n"
            ],
            "text/plain": [
              "  country    region         city  latitude  longitude currency_code  \\\n",
              "0      BR  Rondonia     Peruanos -10.66670   -63.1000           BRL   \n",
              "1      BR      Acre    Porangaba  -8.80000   -70.6000           BRL   \n",
              "2      BR  Amazonas     Alvaraes  -3.22083   -64.8042           BRL   \n",
              "3      BR   Roraima    Caracarai   1.81611   -61.1281           BRL   \n",
              "4      BR      Para  Novo Acordo  -3.56667   -52.2667           BRL   \n",
              "\n",
              "    currency_name currency_symbol sunrise sunset time_zone  distance_km  \n",
              "0  Brazilian Real              R$   06:16  18:25    -04:00      31.8925  \n",
              "1  Brazilian Real              R$   05:46  17:55    -05:00       6.4277  \n",
              "2  Brazilian Real              R$   06:24  18:31    -04:00      42.9629  \n",
              "3  Brazilian Real              R$   06:10  18:16    -04:00      29.6195  \n",
              "4  Brazilian Real              R$   06:33  18:41    -03:00      34.3060  "
            ]
          },
          "execution_count": 11,
          "metadata": {},
          "output_type": "execute_result"
        }
      ],
      "source": [
        "df_explode.head()"
      ]
    },
    {
      "cell_type": "markdown",
      "metadata": {
        "id": "ofxxQPbOeUU7"
      },
      "source": [
        "## Agrupamento dos dados para ver qual 'time_zone' mais frenquente no Brasil"
      ]
    },
    {
      "cell_type": "code",
      "execution_count": 12,
      "metadata": {
        "id": "6a6ccTaCIZt-"
      },
      "outputs": [],
      "source": [
        "df_group_by = df_explode.groupby('time_zone').size().reset_index(name='count')"
      ]
    },
    {
      "cell_type": "code",
      "execution_count": 13,
      "metadata": {
        "colab": {
          "base_uri": "https://localhost:8080/",
          "height": 143
        },
        "id": "BlC04zTVIZt-",
        "outputId": "e02f3a17-16c6-4304-b72d-07217acf5c37"
      },
      "outputs": [
        {
          "data": {
            "application/vnd.google.colaboratory.intrinsic+json": {
              "summary": "{\n  \"name\": \"df3\",\n  \"rows\": 3,\n  \"fields\": [\n    {\n      \"column\": \"time_zone\",\n      \"properties\": {\n        \"dtype\": \"string\",\n        \"num_unique_values\": 3,\n        \"samples\": [\n          \"-03:00\",\n          \"-04:00\",\n          \"-05:00\"\n        ],\n        \"semantic_type\": \"\",\n        \"description\": \"\"\n      }\n    },\n    {\n      \"column\": \"count\",\n      \"properties\": {\n        \"dtype\": \"number\",\n        \"std\": 10,\n        \"min\": 1,\n        \"max\": 21,\n        \"num_unique_values\": 3,\n        \"samples\": [\n          21,\n          5,\n          1\n        ],\n        \"semantic_type\": \"\",\n        \"description\": \"\"\n      }\n    }\n  ]\n}",
              "type": "dataframe",
              "variable_name": "df3"
            },
            "text/html": [
              "\n",
              "  <div id=\"df-9f05088c-e40f-4cd5-a359-919e6f6e40bf\" class=\"colab-df-container\">\n",
              "    <div>\n",
              "<style scoped>\n",
              "    .dataframe tbody tr th:only-of-type {\n",
              "        vertical-align: middle;\n",
              "    }\n",
              "\n",
              "    .dataframe tbody tr th {\n",
              "        vertical-align: top;\n",
              "    }\n",
              "\n",
              "    .dataframe thead th {\n",
              "        text-align: right;\n",
              "    }\n",
              "</style>\n",
              "<table border=\"1\" class=\"dataframe\">\n",
              "  <thead>\n",
              "    <tr style=\"text-align: right;\">\n",
              "      <th></th>\n",
              "      <th>time_zone</th>\n",
              "      <th>count</th>\n",
              "    </tr>\n",
              "  </thead>\n",
              "  <tbody>\n",
              "    <tr>\n",
              "      <th>0</th>\n",
              "      <td>-03:00</td>\n",
              "      <td>21</td>\n",
              "    </tr>\n",
              "    <tr>\n",
              "      <th>1</th>\n",
              "      <td>-04:00</td>\n",
              "      <td>5</td>\n",
              "    </tr>\n",
              "    <tr>\n",
              "      <th>2</th>\n",
              "      <td>-05:00</td>\n",
              "      <td>1</td>\n",
              "    </tr>\n",
              "  </tbody>\n",
              "</table>\n",
              "</div>\n",
              "    <div class=\"colab-df-buttons\">\n",
              "\n",
              "  <div class=\"colab-df-container\">\n",
              "    <button class=\"colab-df-convert\" onclick=\"convertToInteractive('df-9f05088c-e40f-4cd5-a359-919e6f6e40bf')\"\n",
              "            title=\"Convert this dataframe to an interactive table.\"\n",
              "            style=\"display:none;\">\n",
              "\n",
              "  <svg xmlns=\"http://www.w3.org/2000/svg\" height=\"24px\" viewBox=\"0 -960 960 960\">\n",
              "    <path d=\"M120-120v-720h720v720H120Zm60-500h600v-160H180v160Zm220 220h160v-160H400v160Zm0 220h160v-160H400v160ZM180-400h160v-160H180v160Zm440 0h160v-160H620v160ZM180-180h160v-160H180v160Zm440 0h160v-160H620v160Z\"/>\n",
              "  </svg>\n",
              "    </button>\n",
              "\n",
              "  <style>\n",
              "    .colab-df-container {\n",
              "      display:flex;\n",
              "      gap: 12px;\n",
              "    }\n",
              "\n",
              "    .colab-df-convert {\n",
              "      background-color: #E8F0FE;\n",
              "      border: none;\n",
              "      border-radius: 50%;\n",
              "      cursor: pointer;\n",
              "      display: none;\n",
              "      fill: #1967D2;\n",
              "      height: 32px;\n",
              "      padding: 0 0 0 0;\n",
              "      width: 32px;\n",
              "    }\n",
              "\n",
              "    .colab-df-convert:hover {\n",
              "      background-color: #E2EBFA;\n",
              "      box-shadow: 0px 1px 2px rgba(60, 64, 67, 0.3), 0px 1px 3px 1px rgba(60, 64, 67, 0.15);\n",
              "      fill: #174EA6;\n",
              "    }\n",
              "\n",
              "    .colab-df-buttons div {\n",
              "      margin-bottom: 4px;\n",
              "    }\n",
              "\n",
              "    [theme=dark] .colab-df-convert {\n",
              "      background-color: #3B4455;\n",
              "      fill: #D2E3FC;\n",
              "    }\n",
              "\n",
              "    [theme=dark] .colab-df-convert:hover {\n",
              "      background-color: #434B5C;\n",
              "      box-shadow: 0px 1px 3px 1px rgba(0, 0, 0, 0.15);\n",
              "      filter: drop-shadow(0px 1px 2px rgba(0, 0, 0, 0.3));\n",
              "      fill: #FFFFFF;\n",
              "    }\n",
              "  </style>\n",
              "\n",
              "    <script>\n",
              "      const buttonEl =\n",
              "        document.querySelector('#df-9f05088c-e40f-4cd5-a359-919e6f6e40bf button.colab-df-convert');\n",
              "      buttonEl.style.display =\n",
              "        google.colab.kernel.accessAllowed ? 'block' : 'none';\n",
              "\n",
              "      async function convertToInteractive(key) {\n",
              "        const element = document.querySelector('#df-9f05088c-e40f-4cd5-a359-919e6f6e40bf');\n",
              "        const dataTable =\n",
              "          await google.colab.kernel.invokeFunction('convertToInteractive',\n",
              "                                                    [key], {});\n",
              "        if (!dataTable) return;\n",
              "\n",
              "        const docLinkHtml = 'Like what you see? Visit the ' +\n",
              "          '<a target=\"_blank\" href=https://colab.research.google.com/notebooks/data_table.ipynb>data table notebook</a>'\n",
              "          + ' to learn more about interactive tables.';\n",
              "        element.innerHTML = '';\n",
              "        dataTable['output_type'] = 'display_data';\n",
              "        await google.colab.output.renderOutput(dataTable, element);\n",
              "        const docLink = document.createElement('div');\n",
              "        docLink.innerHTML = docLinkHtml;\n",
              "        element.appendChild(docLink);\n",
              "      }\n",
              "    </script>\n",
              "  </div>\n",
              "\n",
              "\n",
              "<div id=\"df-1a8561ed-d957-4a1b-aa9f-7ae2aaa22468\">\n",
              "  <button class=\"colab-df-quickchart\" onclick=\"quickchart('df-1a8561ed-d957-4a1b-aa9f-7ae2aaa22468')\"\n",
              "            title=\"Suggest charts\"\n",
              "            style=\"display:none;\">\n",
              "\n",
              "<svg xmlns=\"http://www.w3.org/2000/svg\" height=\"24px\"viewBox=\"0 0 24 24\"\n",
              "     width=\"24px\">\n",
              "    <g>\n",
              "        <path d=\"M19 3H5c-1.1 0-2 .9-2 2v14c0 1.1.9 2 2 2h14c1.1 0 2-.9 2-2V5c0-1.1-.9-2-2-2zM9 17H7v-7h2v7zm4 0h-2V7h2v10zm4 0h-2v-4h2v4z\"/>\n",
              "    </g>\n",
              "</svg>\n",
              "  </button>\n",
              "\n",
              "<style>\n",
              "  .colab-df-quickchart {\n",
              "      --bg-color: #E8F0FE;\n",
              "      --fill-color: #1967D2;\n",
              "      --hover-bg-color: #E2EBFA;\n",
              "      --hover-fill-color: #174EA6;\n",
              "      --disabled-fill-color: #AAA;\n",
              "      --disabled-bg-color: #DDD;\n",
              "  }\n",
              "\n",
              "  [theme=dark] .colab-df-quickchart {\n",
              "      --bg-color: #3B4455;\n",
              "      --fill-color: #D2E3FC;\n",
              "      --hover-bg-color: #434B5C;\n",
              "      --hover-fill-color: #FFFFFF;\n",
              "      --disabled-bg-color: #3B4455;\n",
              "      --disabled-fill-color: #666;\n",
              "  }\n",
              "\n",
              "  .colab-df-quickchart {\n",
              "    background-color: var(--bg-color);\n",
              "    border: none;\n",
              "    border-radius: 50%;\n",
              "    cursor: pointer;\n",
              "    display: none;\n",
              "    fill: var(--fill-color);\n",
              "    height: 32px;\n",
              "    padding: 0;\n",
              "    width: 32px;\n",
              "  }\n",
              "\n",
              "  .colab-df-quickchart:hover {\n",
              "    background-color: var(--hover-bg-color);\n",
              "    box-shadow: 0 1px 2px rgba(60, 64, 67, 0.3), 0 1px 3px 1px rgba(60, 64, 67, 0.15);\n",
              "    fill: var(--button-hover-fill-color);\n",
              "  }\n",
              "\n",
              "  .colab-df-quickchart-complete:disabled,\n",
              "  .colab-df-quickchart-complete:disabled:hover {\n",
              "    background-color: var(--disabled-bg-color);\n",
              "    fill: var(--disabled-fill-color);\n",
              "    box-shadow: none;\n",
              "  }\n",
              "\n",
              "  .colab-df-spinner {\n",
              "    border: 2px solid var(--fill-color);\n",
              "    border-color: transparent;\n",
              "    border-bottom-color: var(--fill-color);\n",
              "    animation:\n",
              "      spin 1s steps(1) infinite;\n",
              "  }\n",
              "\n",
              "  @keyframes spin {\n",
              "    0% {\n",
              "      border-color: transparent;\n",
              "      border-bottom-color: var(--fill-color);\n",
              "      border-left-color: var(--fill-color);\n",
              "    }\n",
              "    20% {\n",
              "      border-color: transparent;\n",
              "      border-left-color: var(--fill-color);\n",
              "      border-top-color: var(--fill-color);\n",
              "    }\n",
              "    30% {\n",
              "      border-color: transparent;\n",
              "      border-left-color: var(--fill-color);\n",
              "      border-top-color: var(--fill-color);\n",
              "      border-right-color: var(--fill-color);\n",
              "    }\n",
              "    40% {\n",
              "      border-color: transparent;\n",
              "      border-right-color: var(--fill-color);\n",
              "      border-top-color: var(--fill-color);\n",
              "    }\n",
              "    60% {\n",
              "      border-color: transparent;\n",
              "      border-right-color: var(--fill-color);\n",
              "    }\n",
              "    80% {\n",
              "      border-color: transparent;\n",
              "      border-right-color: var(--fill-color);\n",
              "      border-bottom-color: var(--fill-color);\n",
              "    }\n",
              "    90% {\n",
              "      border-color: transparent;\n",
              "      border-bottom-color: var(--fill-color);\n",
              "    }\n",
              "  }\n",
              "</style>\n",
              "\n",
              "  <script>\n",
              "    async function quickchart(key) {\n",
              "      const quickchartButtonEl =\n",
              "        document.querySelector('#' + key + ' button');\n",
              "      quickchartButtonEl.disabled = true;  // To prevent multiple clicks.\n",
              "      quickchartButtonEl.classList.add('colab-df-spinner');\n",
              "      try {\n",
              "        const charts = await google.colab.kernel.invokeFunction(\n",
              "            'suggestCharts', [key], {});\n",
              "      } catch (error) {\n",
              "        console.error('Error during call to suggestCharts:', error);\n",
              "      }\n",
              "      quickchartButtonEl.classList.remove('colab-df-spinner');\n",
              "      quickchartButtonEl.classList.add('colab-df-quickchart-complete');\n",
              "    }\n",
              "    (() => {\n",
              "      let quickchartButtonEl =\n",
              "        document.querySelector('#df-1a8561ed-d957-4a1b-aa9f-7ae2aaa22468 button');\n",
              "      quickchartButtonEl.style.display =\n",
              "        google.colab.kernel.accessAllowed ? 'block' : 'none';\n",
              "    })();\n",
              "  </script>\n",
              "</div>\n",
              "\n",
              "  <div id=\"id_d4c4df87-9ec0-42ef-8513-a3be17490d6d\">\n",
              "    <style>\n",
              "      .colab-df-generate {\n",
              "        background-color: #E8F0FE;\n",
              "        border: none;\n",
              "        border-radius: 50%;\n",
              "        cursor: pointer;\n",
              "        display: none;\n",
              "        fill: #1967D2;\n",
              "        height: 32px;\n",
              "        padding: 0 0 0 0;\n",
              "        width: 32px;\n",
              "      }\n",
              "\n",
              "      .colab-df-generate:hover {\n",
              "        background-color: #E2EBFA;\n",
              "        box-shadow: 0px 1px 2px rgba(60, 64, 67, 0.3), 0px 1px 3px 1px rgba(60, 64, 67, 0.15);\n",
              "        fill: #174EA6;\n",
              "      }\n",
              "\n",
              "      [theme=dark] .colab-df-generate {\n",
              "        background-color: #3B4455;\n",
              "        fill: #D2E3FC;\n",
              "      }\n",
              "\n",
              "      [theme=dark] .colab-df-generate:hover {\n",
              "        background-color: #434B5C;\n",
              "        box-shadow: 0px 1px 3px 1px rgba(0, 0, 0, 0.15);\n",
              "        filter: drop-shadow(0px 1px 2px rgba(0, 0, 0, 0.3));\n",
              "        fill: #FFFFFF;\n",
              "      }\n",
              "    </style>\n",
              "    <button class=\"colab-df-generate\" onclick=\"generateWithVariable('df3')\"\n",
              "            title=\"Generate code using this dataframe.\"\n",
              "            style=\"display:none;\">\n",
              "\n",
              "  <svg xmlns=\"http://www.w3.org/2000/svg\" height=\"24px\"viewBox=\"0 0 24 24\"\n",
              "       width=\"24px\">\n",
              "    <path d=\"M7,19H8.4L18.45,9,17,7.55,7,17.6ZM5,21V16.75L18.45,3.32a2,2,0,0,1,2.83,0l1.4,1.43a1.91,1.91,0,0,1,.58,1.4,1.91,1.91,0,0,1-.58,1.4L9.25,21ZM18.45,9,17,7.55Zm-12,3A5.31,5.31,0,0,0,4.9,8.1,5.31,5.31,0,0,0,1,6.5,5.31,5.31,0,0,0,4.9,4.9,5.31,5.31,0,0,0,6.5,1,5.31,5.31,0,0,0,8.1,4.9,5.31,5.31,0,0,0,12,6.5,5.46,5.46,0,0,0,6.5,12Z\"/>\n",
              "  </svg>\n",
              "    </button>\n",
              "    <script>\n",
              "      (() => {\n",
              "      const buttonEl =\n",
              "        document.querySelector('#id_d4c4df87-9ec0-42ef-8513-a3be17490d6d button.colab-df-generate');\n",
              "      buttonEl.style.display =\n",
              "        google.colab.kernel.accessAllowed ? 'block' : 'none';\n",
              "\n",
              "      buttonEl.onclick = () => {\n",
              "        google.colab.notebook.generateWithVariable('df3');\n",
              "      }\n",
              "      })();\n",
              "    </script>\n",
              "  </div>\n",
              "\n",
              "    </div>\n",
              "  </div>\n"
            ],
            "text/plain": [
              "  time_zone  count\n",
              "0    -03:00     21\n",
              "1    -04:00      5\n",
              "2    -05:00      1"
            ]
          },
          "execution_count": 13,
          "metadata": {},
          "output_type": "execute_result"
        }
      ],
      "source": [
        "df_group_by"
      ]
    },
    {
      "cell_type": "markdown",
      "metadata": {
        "id": "UW4RWhNHJBvG"
      },
      "source": [
        "# Teste 2"
      ]
    },
    {
      "cell_type": "markdown",
      "metadata": {
        "id": "WA-FABBZJS4z"
      },
      "source": [
        "**1)\tCom base na API do Teste 1, como poderíamos informar a latitude e longitude via DataFactory para um notebook no Databricks? Como fazemos para trocar variáveis entre os dois serviços?**\n",
        "\n"
      ]
    },
    {
      "cell_type": "markdown",
      "metadata": {
        "id": "sqcjx5gGQHXH"
      },
      "source": [
        "Na ação de Databricks do ADF é possível declarar **'base parameters'** na hora de chamar o notebook, então seria necessário incluir os parâmetros de latitude e longitude.\n",
        "\n",
        "Já dentro do notebook databricks é necessário capturar esses parâmetros utilizando os códigos abaixo.\n"
      ]
    },
    {
      "cell_type": "code",
      "execution_count": null,
      "metadata": {
        "id": "uhmEsChjRitG"
      },
      "outputs": [],
      "source": [
        "dbutils.widgets.text(\"latitude\", \"\")\n",
        "latitude = dbutils.widgets.get(\"latitude\")"
      ]
    },
    {
      "cell_type": "code",
      "execution_count": null,
      "metadata": {
        "id": "iD6R0UKHRjOw"
      },
      "outputs": [],
      "source": [
        "dbutils.widgets.text(\"longitude\", \"\")\n",
        "latitude = dbutils.widgets.get(\"longitude\")"
      ]
    },
    {
      "cell_type": "markdown",
      "metadata": {
        "id": "Bvudh8uqJXrL"
      },
      "source": [
        "**2)\tQuais seriam os passos para criar um pipeline que chame essa API e persista os dados no datalake?**"
      ]
    },
    {
      "cell_type": "markdown",
      "metadata": {
        "id": "Li1CQdecRmNX"
      },
      "source": [
        "Incluir duas ações de 'Set variable' para iniciarmos as variáveis de latitude e longitude, depois adicionar uma ação do Databricks chamando o notebook. Dentro do notebook é possível fazer a chamada de API e tratar os dados. Para finalizar é possível a partir de um dataframe iniciado escrever dentro do Storage vinculado ao ambiente do ADB."
      ]
    },
    {
      "cell_type": "markdown",
      "metadata": {
        "id": "GA39OpjbJEeZ"
      },
      "source": [
        "# Teste 3"
      ]
    },
    {
      "cell_type": "markdown",
      "metadata": {
        "id": "FCBK5mbUTELw"
      },
      "source": [
        "***Considerando um banco SQL Server***"
      ]
    },
    {
      "cell_type": "markdown",
      "metadata": {
        "id": "cwkMEvTSJlAT"
      },
      "source": [
        "**1) Comando para consultar os acessos de determinado usuário dentro do banco de dados.**"
      ]
    },
    {
      "cell_type": "code",
      "execution_count": null,
      "metadata": {
        "id": "SRjaXHsYS7h6"
      },
      "outputs": [],
      "source": [
        "SELECT *\n",
        "FROM sys.fn_my_permissions('nome', 'DATABASE')\n",
        "ORDER BY subentity_name, permission_name;"
      ]
    },
    {
      "cell_type": "markdown",
      "metadata": {
        "id": "tQtWJSLRJdM_"
      },
      "source": [
        "**2)\tComando para liberar acesso a determinado schema.**\n"
      ]
    },
    {
      "cell_type": "code",
      "execution_count": null,
      "metadata": {
        "id": "om8tMd8tS6GP"
      },
      "outputs": [],
      "source": [
        "GRANT USAGE ON SCHEMA::nome_do_schema TO nome_do_usuario;"
      ]
    },
    {
      "cell_type": "markdown",
      "metadata": {
        "id": "NHb8J92VJeGb"
      },
      "source": [
        "**3)\tComando para remover o acesso a determinado schema.**\n",
        "\n",
        "\n",
        "\n"
      ]
    },
    {
      "cell_type": "code",
      "execution_count": null,
      "metadata": {
        "id": "I05LDmBoS6lP"
      },
      "outputs": [],
      "source": [
        "REVOKE SELECT ON SCHEMA::nome_do_schema FROM nome_do_usuario;"
      ]
    },
    {
      "cell_type": "markdown",
      "metadata": {
        "id": "eXb8XSQ6JJxH"
      },
      "source": [
        "# Teste 4"
      ]
    },
    {
      "cell_type": "markdown",
      "metadata": {
        "id": "qGnLA1CsJtLN"
      },
      "source": [
        "**1)\tDescreva resumidamente um projeto que você tenha realizado do início ao fim, tipo de dado, ferramenta de ETL e Data Viz. Foque nos principais desafios que teve durante a construção da solução, como foi determinado o consumo dos dados pelo Data Viz (acesso direto a base, base replicada, gateway...).**"
      ]
    },
    {
      "cell_type": "markdown",
      "metadata": {
        "id": "hwFF7sK3fCKP"
      },
      "source": [
        "**Projeto X - Lineage**\n",
        "\n",
        "**Contexto:**\n",
        "\n",
        "Arquitetura: Data Mesh\n",
        "\n",
        "Time de DataOPS tem a necessidade de criar uma visão no PowerBI que seja capaz de mostrar visualmente todo o lineage dos 'dataflows' encontrados dentro do time de Engenharia de dados.\n",
        "\n",
        "Hoje em produção funciona quatro arquiteturas diferentes cada uma com seu 'metadata store', todos eles armazenados em databases (SQL Server) diferentes.\n",
        "\n",
        "\n",
        "**Tipos de dependência presentes:**\n",
        "As dependências seria basicamente um pipeline que depende de outro para completar um fluxo de dados por completo.\n",
        "\n",
        "Dependência 1: Raw -> Bronze -> Silver\n",
        "\n",
        "Dependência 2: Nó 1 do Mesh (tabela=invoice) > Nó 2 do Mesh (tabela=invoice(silver))\n",
        "\n",
        "Dependência 3: Grupo de tabelas (Silver: customer, product, invoice) -> Gold\n",
        "\n",
        "\n",
        "**ETL:**\n",
        "\n",
        "Com o cenário complexo acima fica muito crítico para monitorar as execuções com falha. Portanto foi criada um ETL para compilar todas as informações de pipelines cadastrados e montar um schema padrão para encaixar as informações de metadados de 4 arquiteturas.\n",
        "\n",
        "O ETL foi criado usando o Databricks Workflow.\n",
        "\n",
        "O acesso as tabelas de metadado foi disponibilizado utilizando um AKV + SPN (para cada database).\n",
        "\n",
        "Foi criada uma função para gerar a tabela raw onde basicamente tinhamos a informação do nome do fluxo de dados e as outras colunas foram chamadas de dags.\n",
        "\n",
        "**schema:**\n",
        "dataflow_name | dag_1 | dag_2 | dag_3 ...\n",
        "\n",
        "Esse schema foi desenhado para usarmos um componente de 'Árvore Hierarquica' dentro do BI.\n",
        "\n",
        "Todo esse processo era trigado no momento que um novo código era comitado no Github, a cada '.sql' comitado tinhamos um novo job cadastrado portanto poderíamos ter uma mudança no lineage, foi utilizado o Azure DevOps."
      ]
    },
    {
      "cell_type": "markdown",
      "metadata": {
        "id": "RWp-P2lkJLOv"
      },
      "source": [
        "# Teste 5"
      ]
    },
    {
      "cell_type": "markdown",
      "metadata": {
        "id": "mdHZnnEiJv0v"
      },
      "source": [
        "**1)\tO que você julga como boas práticas para criação, manutenção e consumo de dados em uma estrutura de datalake? Não existe uma única resposta, avaliaremos sua linha de visão sobre os temas.**"
      ]
    },
    {
      "cell_type": "markdown",
      "metadata": {
        "id": "viDf9PqOTRm_"
      },
      "source": [
        "*   Arquitetura medalhão (raw, bronze, silver, gold)\n",
        "*   Camada gold ser camada de consumo\n",
        "*   Formato parquet de arquivos\n",
        "*   Utilizar 'schema_evolution' pois arquivos parquet não lidam bem com schema diferentes\n",
        "*   Catalogar os metadados\n",
        "*   Particionamento das pastas do datalake\n",
        "*   Quando possível usar 'enable data feed'(CDC no contexto de delta tables) e z-order\n",
        "*   Utilizar time-travel para não permitir disrupção do negócio\n"
      ]
    },
    {
      "cell_type": "markdown",
      "metadata": {
        "id": "kirUFYoBJMUJ"
      },
      "source": [
        "# Teste 6"
      ]
    },
    {
      "cell_type": "markdown",
      "metadata": {
        "id": "7FVh9nagJ39h"
      },
      "source": [
        "**1)\tUm grupo de pessoas está tentando encontrar passagens de ônibus mais baratas de uma cidade para outra. Em certos cenários, os ônibus diretos podem ser mais caros do que fazer uma escala em outra cidade.\n",
        "Escreva uma consulta que liste as rotas de ônibus mais baratas entre as cidades. Se houver duas rotas com o mesmo custo, mas com um número diferente de paradas, liste as rotas com menos paradas.\n",
        "Considere o seguinte conjunto de dados para este problema. Como você pode ver neste conjunto de dados, o custo direto da passagem de San Marino para Pisa é de 50, mas uma opção mais barata é viajar de San Marino para Milão e depois viajar de Milão para Pisa, onde o custo somado desta viagem chega a 40.\n",
        "Para efeitos de simplificação, assume-se que as pessoas podem comprar bilhetes de autocarro com um máximo de duas escalas (ou seja: A -> B, B -> C, C -> D)**\n"
      ]
    },
    {
      "cell_type": "markdown",
      "metadata": {
        "id": "iJff0jmL179T"
      },
      "source": [
        "## Importando biblioteca do polars(similar ao pandas) e duckdb para conseguir rodar query no dataframe"
      ]
    },
    {
      "cell_type": "markdown",
      "metadata": {
        "id": "vM3wWKS-2OXo"
      },
      "source": [
        "### Importando as bibliotecas\n",
        "\n",
        "Polar - substituto do pandas\n",
        "\n",
        "Duckdb - engine para executar query"
      ]
    },
    {
      "cell_type": "code",
      "execution_count": 8,
      "metadata": {
        "id": "UC_Db8qBoaSG"
      },
      "outputs": [],
      "source": [
        "import polars as pl\n",
        "import duckdb"
      ]
    },
    {
      "cell_type": "markdown",
      "metadata": {
        "id": "2IQHt7AC2aFS"
      },
      "source": [
        "### Criando dataframe"
      ]
    },
    {
      "cell_type": "code",
      "execution_count": 2,
      "metadata": {
        "id": "AcXuA3AvobFA"
      },
      "outputs": [],
      "source": [
        "df = pl.DataFrame({\n",
        "    'Origin': ['San Marino', 'San Marino', 'San Marino', 'Milan', 'Milan', 'Pisa', 'Pisa', 'Pisa'],\n",
        "    'Destination': ['Pisa', 'Milan', 'Rome', 'Rome', 'Pisa', 'Venice', 'San Marino', 'Milan'],\n",
        "    'TicketCost': [50, 20, 40, 10, 20, 100, 30, 50]\n",
        "})"
      ]
    },
    {
      "cell_type": "markdown",
      "metadata": {
        "id": "RQO2kdjX2cXr"
      },
      "source": [
        "### Criando outro dataframe para selecionar as rotas diretas"
      ]
    },
    {
      "cell_type": "code",
      "execution_count": 3,
      "metadata": {
        "id": "5eiVC-q1ob_0"
      },
      "outputs": [],
      "source": [
        "routes = df.with_columns(pl.lit(0).alias('Stops'))\n",
        "routes = routes.select(pl.col('Origin'), pl.col('Destination'), pl.col('Stops'), pl.col('TicketCost'))"
      ]
    },
    {
      "cell_type": "markdown",
      "metadata": {
        "id": "SLrENHWD2ij0"
      },
      "source": [
        "### Lógica responsável por iterar todas as possibilidades de rotas"
      ]
    },
    {
      "cell_type": "code",
      "execution_count": null,
      "metadata": {
        "id": "Z2Z41eEtoZXg"
      },
      "outputs": [],
      "source": [
        "for _ in range(len(df) - 1):\n",
        "    new_routes = routes.join(df, left_on='Destination', right_on='Origin', how='inner', suffix='_new')\n",
        "    new_routes = new_routes.select([\n",
        "        pl.col('Origin'),\n",
        "        pl.col('Destination_new').alias('Destination'),\n",
        "        (pl.col('Stops') + 1).alias('Stops'),\n",
        "        (pl.col('TicketCost') + pl.col('TicketCost_new')).alias('TicketCost')\n",
        "    ])\n",
        "\n",
        "    routes = pl.concat([routes, new_routes]).filter(pl.col('Origin') != pl.col('Destination'))"
      ]
    },
    {
      "cell_type": "markdown",
      "metadata": {
        "id": "rSC6PfiN28JP"
      },
      "source": [
        "### Iniciando duckdb"
      ]
    },
    {
      "cell_type": "code",
      "execution_count": 28,
      "metadata": {
        "id": "2RgAhaQtyRok"
      },
      "outputs": [],
      "source": [
        "conn = duckdb.connect(database=':memory:', read_only=False)"
      ]
    },
    {
      "cell_type": "markdown",
      "metadata": {
        "id": "OO-xhC0C3A5a"
      },
      "source": [
        "### Query final + Resultado"
      ]
    },
    {
      "cell_type": "code",
      "execution_count": 29,
      "metadata": {
        "colab": {
          "base_uri": "https://localhost:8080/",
          "height": 397
        },
        "id": "HSGccgRMybMo",
        "outputId": "a9742750-df22-42fa-cb23-9fd45399c66b"
      },
      "outputs": [
        {
          "data": {
            "application/vnd.google.colaboratory.intrinsic+json": {
              "summary": "{\n  \"name\": \"  \\\"\\\"\\\")\",\n  \"rows\": 12,\n  \"fields\": [\n    {\n      \"column\": \"Origin\",\n      \"properties\": {\n        \"dtype\": \"category\",\n        \"num_unique_values\": 3,\n        \"samples\": [\n          \"Milan\",\n          \"Pisa\",\n          \"San Marino\"\n        ],\n        \"semantic_type\": \"\",\n        \"description\": \"\"\n      }\n    },\n    {\n      \"column\": \"Destination\",\n      \"properties\": {\n        \"dtype\": \"category\",\n        \"num_unique_values\": 5,\n        \"samples\": [\n          \"Venice\",\n          \"Milan\",\n          \"Rome\"\n        ],\n        \"semantic_type\": \"\",\n        \"description\": \"\"\n      }\n    },\n    {\n      \"column\": \"Stops\",\n      \"properties\": {\n        \"dtype\": \"int32\",\n        \"num_unique_values\": 3,\n        \"samples\": [\n          1,\n          0,\n          2\n        ],\n        \"semantic_type\": \"\",\n        \"description\": \"\"\n      }\n    },\n    {\n      \"column\": \"TicketCost\",\n      \"properties\": {\n        \"dtype\": \"number\",\n        \"std\": 42,\n        \"min\": 10,\n        \"max\": 140,\n        \"num_unique_values\": 9,\n        \"samples\": [\n          40,\n          120,\n          30\n        ],\n        \"semantic_type\": \"\",\n        \"description\": \"\"\n      }\n    }\n  ]\n}",
              "type": "dataframe"
            },
            "text/html": [
              "\n",
              "  <div id=\"df-6f0dff0f-69cf-4fa9-8b1c-8e38572aa69c\" class=\"colab-df-container\">\n",
              "    <div>\n",
              "<style scoped>\n",
              "    .dataframe tbody tr th:only-of-type {\n",
              "        vertical-align: middle;\n",
              "    }\n",
              "\n",
              "    .dataframe tbody tr th {\n",
              "        vertical-align: top;\n",
              "    }\n",
              "\n",
              "    .dataframe thead th {\n",
              "        text-align: right;\n",
              "    }\n",
              "</style>\n",
              "<table border=\"1\" class=\"dataframe\">\n",
              "  <thead>\n",
              "    <tr style=\"text-align: right;\">\n",
              "      <th></th>\n",
              "      <th>Origin</th>\n",
              "      <th>Destination</th>\n",
              "      <th>Stops</th>\n",
              "      <th>TicketCost</th>\n",
              "    </tr>\n",
              "  </thead>\n",
              "  <tbody>\n",
              "    <tr>\n",
              "      <th>0</th>\n",
              "      <td>Milan</td>\n",
              "      <td>San Marino</td>\n",
              "      <td>1</td>\n",
              "      <td>50</td>\n",
              "    </tr>\n",
              "    <tr>\n",
              "      <th>1</th>\n",
              "      <td>Milan</td>\n",
              "      <td>Venice</td>\n",
              "      <td>1</td>\n",
              "      <td>120</td>\n",
              "    </tr>\n",
              "    <tr>\n",
              "      <th>2</th>\n",
              "      <td>Milan</td>\n",
              "      <td>Rome</td>\n",
              "      <td>0</td>\n",
              "      <td>10</td>\n",
              "    </tr>\n",
              "    <tr>\n",
              "      <th>3</th>\n",
              "      <td>Milan</td>\n",
              "      <td>Pisa</td>\n",
              "      <td>0</td>\n",
              "      <td>20</td>\n",
              "    </tr>\n",
              "    <tr>\n",
              "      <th>4</th>\n",
              "      <td>Pisa</td>\n",
              "      <td>Venice</td>\n",
              "      <td>0</td>\n",
              "      <td>100</td>\n",
              "    </tr>\n",
              "    <tr>\n",
              "      <th>5</th>\n",
              "      <td>Pisa</td>\n",
              "      <td>Milan</td>\n",
              "      <td>0</td>\n",
              "      <td>50</td>\n",
              "    </tr>\n",
              "    <tr>\n",
              "      <th>6</th>\n",
              "      <td>Pisa</td>\n",
              "      <td>San Marino</td>\n",
              "      <td>0</td>\n",
              "      <td>30</td>\n",
              "    </tr>\n",
              "    <tr>\n",
              "      <th>7</th>\n",
              "      <td>Pisa</td>\n",
              "      <td>Rome</td>\n",
              "      <td>1</td>\n",
              "      <td>60</td>\n",
              "    </tr>\n",
              "    <tr>\n",
              "      <th>8</th>\n",
              "      <td>San Marino</td>\n",
              "      <td>Pisa</td>\n",
              "      <td>1</td>\n",
              "      <td>40</td>\n",
              "    </tr>\n",
              "    <tr>\n",
              "      <th>9</th>\n",
              "      <td>San Marino</td>\n",
              "      <td>Milan</td>\n",
              "      <td>0</td>\n",
              "      <td>20</td>\n",
              "    </tr>\n",
              "    <tr>\n",
              "      <th>10</th>\n",
              "      <td>San Marino</td>\n",
              "      <td>Rome</td>\n",
              "      <td>1</td>\n",
              "      <td>30</td>\n",
              "    </tr>\n",
              "    <tr>\n",
              "      <th>11</th>\n",
              "      <td>San Marino</td>\n",
              "      <td>Venice</td>\n",
              "      <td>2</td>\n",
              "      <td>140</td>\n",
              "    </tr>\n",
              "  </tbody>\n",
              "</table>\n",
              "</div>\n",
              "    <div class=\"colab-df-buttons\">\n",
              "\n",
              "  <div class=\"colab-df-container\">\n",
              "    <button class=\"colab-df-convert\" onclick=\"convertToInteractive('df-6f0dff0f-69cf-4fa9-8b1c-8e38572aa69c')\"\n",
              "            title=\"Convert this dataframe to an interactive table.\"\n",
              "            style=\"display:none;\">\n",
              "\n",
              "  <svg xmlns=\"http://www.w3.org/2000/svg\" height=\"24px\" viewBox=\"0 -960 960 960\">\n",
              "    <path d=\"M120-120v-720h720v720H120Zm60-500h600v-160H180v160Zm220 220h160v-160H400v160Zm0 220h160v-160H400v160ZM180-400h160v-160H180v160Zm440 0h160v-160H620v160ZM180-180h160v-160H180v160Zm440 0h160v-160H620v160Z\"/>\n",
              "  </svg>\n",
              "    </button>\n",
              "\n",
              "  <style>\n",
              "    .colab-df-container {\n",
              "      display:flex;\n",
              "      gap: 12px;\n",
              "    }\n",
              "\n",
              "    .colab-df-convert {\n",
              "      background-color: #E8F0FE;\n",
              "      border: none;\n",
              "      border-radius: 50%;\n",
              "      cursor: pointer;\n",
              "      display: none;\n",
              "      fill: #1967D2;\n",
              "      height: 32px;\n",
              "      padding: 0 0 0 0;\n",
              "      width: 32px;\n",
              "    }\n",
              "\n",
              "    .colab-df-convert:hover {\n",
              "      background-color: #E2EBFA;\n",
              "      box-shadow: 0px 1px 2px rgba(60, 64, 67, 0.3), 0px 1px 3px 1px rgba(60, 64, 67, 0.15);\n",
              "      fill: #174EA6;\n",
              "    }\n",
              "\n",
              "    .colab-df-buttons div {\n",
              "      margin-bottom: 4px;\n",
              "    }\n",
              "\n",
              "    [theme=dark] .colab-df-convert {\n",
              "      background-color: #3B4455;\n",
              "      fill: #D2E3FC;\n",
              "    }\n",
              "\n",
              "    [theme=dark] .colab-df-convert:hover {\n",
              "      background-color: #434B5C;\n",
              "      box-shadow: 0px 1px 3px 1px rgba(0, 0, 0, 0.15);\n",
              "      filter: drop-shadow(0px 1px 2px rgba(0, 0, 0, 0.3));\n",
              "      fill: #FFFFFF;\n",
              "    }\n",
              "  </style>\n",
              "\n",
              "    <script>\n",
              "      const buttonEl =\n",
              "        document.querySelector('#df-6f0dff0f-69cf-4fa9-8b1c-8e38572aa69c button.colab-df-convert');\n",
              "      buttonEl.style.display =\n",
              "        google.colab.kernel.accessAllowed ? 'block' : 'none';\n",
              "\n",
              "      async function convertToInteractive(key) {\n",
              "        const element = document.querySelector('#df-6f0dff0f-69cf-4fa9-8b1c-8e38572aa69c');\n",
              "        const dataTable =\n",
              "          await google.colab.kernel.invokeFunction('convertToInteractive',\n",
              "                                                    [key], {});\n",
              "        if (!dataTable) return;\n",
              "\n",
              "        const docLinkHtml = 'Like what you see? Visit the ' +\n",
              "          '<a target=\"_blank\" href=https://colab.research.google.com/notebooks/data_table.ipynb>data table notebook</a>'\n",
              "          + ' to learn more about interactive tables.';\n",
              "        element.innerHTML = '';\n",
              "        dataTable['output_type'] = 'display_data';\n",
              "        await google.colab.output.renderOutput(dataTable, element);\n",
              "        const docLink = document.createElement('div');\n",
              "        docLink.innerHTML = docLinkHtml;\n",
              "        element.appendChild(docLink);\n",
              "      }\n",
              "    </script>\n",
              "  </div>\n",
              "\n",
              "\n",
              "<div id=\"df-df39f54a-5bae-4a50-9577-1165c4d438af\">\n",
              "  <button class=\"colab-df-quickchart\" onclick=\"quickchart('df-df39f54a-5bae-4a50-9577-1165c4d438af')\"\n",
              "            title=\"Suggest charts\"\n",
              "            style=\"display:none;\">\n",
              "\n",
              "<svg xmlns=\"http://www.w3.org/2000/svg\" height=\"24px\"viewBox=\"0 0 24 24\"\n",
              "     width=\"24px\">\n",
              "    <g>\n",
              "        <path d=\"M19 3H5c-1.1 0-2 .9-2 2v14c0 1.1.9 2 2 2h14c1.1 0 2-.9 2-2V5c0-1.1-.9-2-2-2zM9 17H7v-7h2v7zm4 0h-2V7h2v10zm4 0h-2v-4h2v4z\"/>\n",
              "    </g>\n",
              "</svg>\n",
              "  </button>\n",
              "\n",
              "<style>\n",
              "  .colab-df-quickchart {\n",
              "      --bg-color: #E8F0FE;\n",
              "      --fill-color: #1967D2;\n",
              "      --hover-bg-color: #E2EBFA;\n",
              "      --hover-fill-color: #174EA6;\n",
              "      --disabled-fill-color: #AAA;\n",
              "      --disabled-bg-color: #DDD;\n",
              "  }\n",
              "\n",
              "  [theme=dark] .colab-df-quickchart {\n",
              "      --bg-color: #3B4455;\n",
              "      --fill-color: #D2E3FC;\n",
              "      --hover-bg-color: #434B5C;\n",
              "      --hover-fill-color: #FFFFFF;\n",
              "      --disabled-bg-color: #3B4455;\n",
              "      --disabled-fill-color: #666;\n",
              "  }\n",
              "\n",
              "  .colab-df-quickchart {\n",
              "    background-color: var(--bg-color);\n",
              "    border: none;\n",
              "    border-radius: 50%;\n",
              "    cursor: pointer;\n",
              "    display: none;\n",
              "    fill: var(--fill-color);\n",
              "    height: 32px;\n",
              "    padding: 0;\n",
              "    width: 32px;\n",
              "  }\n",
              "\n",
              "  .colab-df-quickchart:hover {\n",
              "    background-color: var(--hover-bg-color);\n",
              "    box-shadow: 0 1px 2px rgba(60, 64, 67, 0.3), 0 1px 3px 1px rgba(60, 64, 67, 0.15);\n",
              "    fill: var(--button-hover-fill-color);\n",
              "  }\n",
              "\n",
              "  .colab-df-quickchart-complete:disabled,\n",
              "  .colab-df-quickchart-complete:disabled:hover {\n",
              "    background-color: var(--disabled-bg-color);\n",
              "    fill: var(--disabled-fill-color);\n",
              "    box-shadow: none;\n",
              "  }\n",
              "\n",
              "  .colab-df-spinner {\n",
              "    border: 2px solid var(--fill-color);\n",
              "    border-color: transparent;\n",
              "    border-bottom-color: var(--fill-color);\n",
              "    animation:\n",
              "      spin 1s steps(1) infinite;\n",
              "  }\n",
              "\n",
              "  @keyframes spin {\n",
              "    0% {\n",
              "      border-color: transparent;\n",
              "      border-bottom-color: var(--fill-color);\n",
              "      border-left-color: var(--fill-color);\n",
              "    }\n",
              "    20% {\n",
              "      border-color: transparent;\n",
              "      border-left-color: var(--fill-color);\n",
              "      border-top-color: var(--fill-color);\n",
              "    }\n",
              "    30% {\n",
              "      border-color: transparent;\n",
              "      border-left-color: var(--fill-color);\n",
              "      border-top-color: var(--fill-color);\n",
              "      border-right-color: var(--fill-color);\n",
              "    }\n",
              "    40% {\n",
              "      border-color: transparent;\n",
              "      border-right-color: var(--fill-color);\n",
              "      border-top-color: var(--fill-color);\n",
              "    }\n",
              "    60% {\n",
              "      border-color: transparent;\n",
              "      border-right-color: var(--fill-color);\n",
              "    }\n",
              "    80% {\n",
              "      border-color: transparent;\n",
              "      border-right-color: var(--fill-color);\n",
              "      border-bottom-color: var(--fill-color);\n",
              "    }\n",
              "    90% {\n",
              "      border-color: transparent;\n",
              "      border-bottom-color: var(--fill-color);\n",
              "    }\n",
              "  }\n",
              "</style>\n",
              "\n",
              "  <script>\n",
              "    async function quickchart(key) {\n",
              "      const quickchartButtonEl =\n",
              "        document.querySelector('#' + key + ' button');\n",
              "      quickchartButtonEl.disabled = true;  // To prevent multiple clicks.\n",
              "      quickchartButtonEl.classList.add('colab-df-spinner');\n",
              "      try {\n",
              "        const charts = await google.colab.kernel.invokeFunction(\n",
              "            'suggestCharts', [key], {});\n",
              "      } catch (error) {\n",
              "        console.error('Error during call to suggestCharts:', error);\n",
              "      }\n",
              "      quickchartButtonEl.classList.remove('colab-df-spinner');\n",
              "      quickchartButtonEl.classList.add('colab-df-quickchart-complete');\n",
              "    }\n",
              "    (() => {\n",
              "      let quickchartButtonEl =\n",
              "        document.querySelector('#df-df39f54a-5bae-4a50-9577-1165c4d438af button');\n",
              "      quickchartButtonEl.style.display =\n",
              "        google.colab.kernel.accessAllowed ? 'block' : 'none';\n",
              "    })();\n",
              "  </script>\n",
              "</div>\n",
              "\n",
              "    </div>\n",
              "  </div>\n"
            ],
            "text/plain": [
              "        Origin Destination  Stops  TicketCost\n",
              "0        Milan  San Marino      1          50\n",
              "1        Milan      Venice      1         120\n",
              "2        Milan        Rome      0          10\n",
              "3        Milan        Pisa      0          20\n",
              "4         Pisa      Venice      0         100\n",
              "5         Pisa       Milan      0          50\n",
              "6         Pisa  San Marino      0          30\n",
              "7         Pisa        Rome      1          60\n",
              "8   San Marino        Pisa      1          40\n",
              "9   San Marino       Milan      0          20\n",
              "10  San Marino        Rome      1          30\n",
              "11  San Marino      Venice      2         140"
            ]
          },
          "execution_count": 29,
          "metadata": {},
          "output_type": "execute_result"
        }
      ],
      "source": [
        "conn.execute(\"\"\"\n",
        " WITH step1 AS (\n",
        "    SELECT *,\n",
        "     RANK() OVER (PARTITION BY Origin, Destination ORDER BY TicketCost ASC, Stops ASC) as rank\n",
        "    FROM routes\n",
        ")\n",
        "  SELECT DISTINCT Origin\n",
        "  ,Destination\n",
        "  ,Stops\n",
        "  , TicketCost\n",
        "  FROM step1\n",
        "  WHERE rank=1\n",
        "  AND Origin <> Destination\n",
        "  ORDER BY Origin\n",
        "  \"\"\").df()"
      ]
    }
  ],
  "metadata": {
    "colab": {
      "provenance": []
    },
    "kernelspec": {
      "display_name": "venv",
      "language": "python",
      "name": "python3"
    },
    "language_info": {
      "codemirror_mode": {
        "name": "ipython",
        "version": 3
      },
      "file_extension": ".py",
      "mimetype": "text/x-python",
      "name": "python",
      "nbconvert_exporter": "python",
      "pygments_lexer": "ipython3",
      "version": "3.11.1"
    }
  },
  "nbformat": 4,
  "nbformat_minor": 0
}
